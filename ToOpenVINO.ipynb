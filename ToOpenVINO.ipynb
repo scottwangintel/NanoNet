{
 "cells": [
  {
   "cell_type": "code",
   "execution_count": 1,
   "id": "b053bb7e-92c8-40da-9af7-7f1e0b426fd2",
   "metadata": {},
   "outputs": [],
   "source": [
    "# This script converts the trained \"model.h5\" into OpenVINO MO.\n",
    "# https://docs.openvino.ai/2022.3/openvino_docs_MO_DG_prepare_model_convert_model_Convert_Model_From_TensorFlow.html#keras-h5 \n",
    "from pathlib import Path"
   ]
  },
  {
   "cell_type": "code",
   "execution_count": 2,
   "id": "b57ef9d7-93b9-494c-b9a0-3e4773b69e1b",
   "metadata": {},
   "outputs": [],
   "source": [
    "model_h5_dir = Path(\"./files/A_20240907_200Epoch\")\n",
    "model_h5_path = model_h5_dir / \"model-200epochs.h5\""
   ]
  },
  {
   "cell_type": "code",
   "execution_count": 3,
   "id": "1d07e6b3-cdad-4f29-a5d3-082beea9b394",
   "metadata": {},
   "outputs": [
    {
     "name": "stdout",
     "output_type": "stream",
     "text": [
      "Model loaded successfully.\n"
     ]
    }
   ],
   "source": [
    "import tensorflow as tf\n",
    "from metrics import iou, dice_coef, dice_loss, bce_dice_loss\n",
    "from tensorflow.keras.utils import CustomObjectScope\n",
    "\n",
    "# Load the model\n",
    "with CustomObjectScope({\n",
    "        'iou':iou,\n",
    "        'dice_coef':dice_coef,\n",
    "        'dice_loss':dice_loss,\n",
    "        'bce_dice_loss': bce_dice_loss\n",
    "    }):\n",
    "    try:\n",
    "        h5_model = tf.keras.models.load_model(model_h5_path)\n",
    "        print(\"Model loaded successfully.\")\n",
    "    except Exception as e:\n",
    "        print(f\"Failed to load model: {e}\")\n",
    "        "
   ]
  },
  {
   "cell_type": "code",
   "execution_count": 4,
   "id": "0a86d100-a3d7-4c21-b7f5-c0adfb1cf11d",
   "metadata": {},
   "outputs": [
    {
     "name": "stdout",
     "output_type": "stream",
     "text": [
      "INFO:tensorflow:Assets written to: files\\A_20240907_200Epoch\\model\\assets\n"
     ]
    },
    {
     "name": "stderr",
     "output_type": "stream",
     "text": [
      "INFO:tensorflow:Assets written to: files\\A_20240907_200Epoch\\model\\assets\n"
     ]
    }
   ],
   "source": [
    "saved_model_path =  model_h5_dir /'model'\n",
    "tf.saved_model.save(h5_model,saved_model_path)\n"
   ]
  },
  {
   "cell_type": "code",
   "execution_count": 5,
   "id": "4dcfcc7c-7804-456f-b720-043f8a96d305",
   "metadata": {},
   "outputs": [],
   "source": [
    "import openvino as ov\n",
    "ov_model = ov.convert_model(saved_model_path)"
   ]
  },
  {
   "cell_type": "code",
   "execution_count": 6,
   "id": "6db9c743-f306-441d-9c94-2b6f292e22af",
   "metadata": {},
   "outputs": [],
   "source": [
    "fn = str(saved_model_path /'nanonet-fp32-shape-1-256-256-3-model.xml')\n",
    "ov.save_model(ov_model, fn)"
   ]
  },
  {
   "cell_type": "code",
   "execution_count": 7,
   "id": "9f69ec1f-2928-4971-b789-ba0a308ec9fc",
   "metadata": {},
   "outputs": [
    {
     "name": "stdout",
     "output_type": "stream",
     "text": [
      "<?xml version=\"1.0\"?>\n",
      "<net name=\"TensorFlow_Frontend_IR\" version=\"11\">\n",
      "<layers>\n",
      "<layer id=\"0\" name=\"input_image\" type=\"Parameter\" version=\"opset1\">\n",
      "<data shape=\"?,256,256,3\" element_type=\"f32\" />\n",
      "<output>\n",
      "<port id=\"0\" precision=\"FP32\" names=\"input_image\">\n",
      "<dim>-1</dim>\n",
      "<dim>256</dim>\n",
      "<dim>256</dim>\n",
      "<dim>3</dim>\n",
      "</port>\n",
      "</output>\n",
      "</layer>\n",
      "<layer id=\"1\" name=\"Constant_654\" type=\"Const\" version=\"opset1\">\n",
      "<data element_type=\"i64\" shape=\"4\" offset=\"0\" size=\"32\" />\n",
      "<output>\n",
      "<port id=\"0\" precision=\"I64\">\n",
      "<dim>4</dim>\n",
      "</port>\n",
      "</output>\n",
      "</layer>\n",
      "<layer id=\"2\" name=\"Transpose_655\" type=\"Transpose\" version=\"opset1\">\n",
      "<input>\n",
      "<port id=\"0\" precision=\"FP32\">\n",
      "<dim>-1</dim>\n",
      "<dim>256</dim>\n",
      "<dim>256</dim>\n",
      "<dim>3</dim>\n",
      "</port>\n",
      "<port id=\"1\" precision=\"I64\">\n",
      "<dim>4</dim>\n",
      "</port>\n",
      "</input>\n",
      "<output>\n",
      "<port id=\"2\" precision=\"FP32\">\n",
      "<dim>-1</dim>\n",
      "<dim>3</dim>\n",
      "<dim>256</dim>\n",
      "<dim>256</dim>\n",
      "</port>\n",
      "</output>\n",
      "</layer>\n",
      "<layer id=\"3\" name=\"Multiply_17849_compressed\" type=\"Const\" version=\"opset1\">\n",
      "<data element_type=\"f16\" shape=\"16, 3, 3, 3\" offset=\"32\" size=\"864\" />\n",
      "<output>\n",
      "<port id=\"0\" precision=\"FP16\">\n",
      "<dim>16</dim>\n",
      "<dim>3</dim>\n",
      "<dim>3</dim>\n"
     ]
    }
   ],
   "source": [
    "# Open the file and read the first 20 lines\n",
    "with open(fn, 'r') as file:\n",
    "    for i in range(50):\n",
    "        line = file.readline()\n",
    "        print(line.strip())  # Using strip() to remove any extra newline characters"
   ]
  },
  {
   "cell_type": "code",
   "execution_count": 8,
   "id": "f45ef6ce-5bea-4183-bffc-6ce79d60b466",
   "metadata": {},
   "outputs": [],
   "source": [
    "import openvino as ov\n",
    "ov_model = ov.convert_model(saved_model_path)"
   ]
  },
  {
   "cell_type": "code",
   "execution_count": 9,
   "id": "4d351788-d0f4-40a8-a9bc-5efd43fac121",
   "metadata": {},
   "outputs": [
    {
     "name": "stdout",
     "output_type": "stream",
     "text": [
      "input_name is input_image\n"
     ]
    }
   ],
   "source": [
    "# Convert Input Layout to N,C,H,W\n",
    "prep = ov.preprocess.PrePostProcessor(ov_model)\n",
    "input_name = ov_model.input().get_any_name()\n",
    "print(\"input_name is\", input_name)\n",
    "prep.input(input_name).tensor().set_layout(ov.Layout(\"nchw\"))\n",
    "prep.input(input_name).model().set_layout(ov.Layout(\"nhwc\"))\n",
    "ov_model = prep.build()\n"
   ]
  },
  {
   "cell_type": "code",
   "execution_count": 10,
   "id": "d894c4b9-138b-450c-b48c-34a79414b85e",
   "metadata": {},
   "outputs": [],
   "source": [
    "fn = str(saved_model_path /'nanonet-fp32-shape-1-3-256-256-model.xml')\n",
    "ov.save_model(ov_model, fn)"
   ]
  },
  {
   "cell_type": "code",
   "execution_count": 11,
   "id": "6f7041db-3ace-487d-b4c3-4f4f862dd2d4",
   "metadata": {},
   "outputs": [
    {
     "name": "stdout",
     "output_type": "stream",
     "text": [
      "<?xml version=\"1.0\"?>\n",
      "<net name=\"TensorFlow_Frontend_IR\" version=\"11\">\n",
      "<layers>\n",
      "<layer id=\"0\" name=\"input_image\" type=\"Parameter\" version=\"opset1\">\n",
      "<data shape=\"?,3,256,256\" element_type=\"f32\" />\n",
      "<output>\n",
      "<port id=\"0\" precision=\"FP32\" names=\"input_image\">\n",
      "<dim>-1</dim>\n",
      "<dim>3</dim>\n",
      "<dim>256</dim>\n",
      "<dim>256</dim>\n",
      "<rt_info>\n",
      "<attribute name=\"layout\" version=\"0\" layout=\"[N,C,H,W]\" />\n",
      "</rt_info>\n",
      "</port>\n",
      "</output>\n",
      "</layer>\n",
      "<layer id=\"1\" name=\"Constant_37209\" type=\"Const\" version=\"opset1\">\n",
      "<data element_type=\"i64\" shape=\"4\" offset=\"0\" size=\"32\" />\n",
      "<output>\n",
      "<port id=\"0\" precision=\"I64\">\n",
      "<dim>4</dim>\n",
      "</port>\n",
      "</output>\n",
      "</layer>\n",
      "<layer id=\"2\" name=\"Transpose_37210\" type=\"Transpose\" version=\"opset1\">\n",
      "<input>\n",
      "<port id=\"0\" precision=\"FP32\">\n",
      "<dim>-1</dim>\n",
      "<dim>3</dim>\n",
      "<dim>256</dim>\n",
      "<dim>256</dim>\n",
      "</port>\n",
      "<port id=\"1\" precision=\"I64\">\n",
      "<dim>4</dim>\n",
      "</port>\n",
      "</input>\n",
      "<output>\n",
      "<port id=\"2\" precision=\"FP32\">\n",
      "<dim>-1</dim>\n",
      "<dim>256</dim>\n",
      "<dim>256</dim>\n",
      "<dim>3</dim>\n",
      "</port>\n",
      "</output>\n",
      "</layer>\n",
      "<layer id=\"3\" name=\"Constant_19572\" type=\"Const\" version=\"opset1\">\n",
      "<data element_type=\"i64\" shape=\"4\" offset=\"32\" size=\"32\" />\n",
      "<output>\n",
      "<port id=\"0\" precision=\"I64\">\n"
     ]
    }
   ],
   "source": [
    "# Open the file and read the first 20 lines\n",
    "with open(fn, 'r') as file:\n",
    "    for i in range(50):\n",
    "        line = file.readline()\n",
    "        print(line.strip())  # Using strip() to remove any extra newline characters"
   ]
  },
  {
   "cell_type": "code",
   "execution_count": null,
   "id": "774114dc-810f-4318-8fbb-211792266126",
   "metadata": {},
   "outputs": [],
   "source": []
  }
 ],
 "metadata": {
  "kernelspec": {
   "display_name": "Python 3 (ipykernel)",
   "language": "python",
   "name": "python3"
  },
  "language_info": {
   "codemirror_mode": {
    "name": "ipython",
    "version": 3
   },
   "file_extension": ".py",
   "mimetype": "text/x-python",
   "name": "python",
   "nbconvert_exporter": "python",
   "pygments_lexer": "ipython3",
   "version": "3.10.14"
  }
 },
 "nbformat": 4,
 "nbformat_minor": 5
}
