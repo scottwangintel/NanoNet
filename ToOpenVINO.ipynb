{
 "cells": [
  {
   "cell_type": "code",
   "execution_count": null,
   "id": "b053bb7e-92c8-40da-9af7-7f1e0b426fd2",
   "metadata": {},
   "outputs": [],
   "source": [
    "# This script converts the trained \"model.h5\" into OpenVINO MO.\n",
    "# https://docs.openvino.ai/2022.3/openvino_docs_MO_DG_prepare_model_convert_model_Convert_Model_From_TensorFlow.html#keras-h5 \n",
    "import time\n",
    "from pathlib import Path\n",
    "\n",
    "import cv2\n",
    "import matplotlib.pyplot as plt\n",
    "import numpy as np\n",
    "import tensorflow as tf\n",
    "from IPython.display import Markdown\n",
    "from openvino.runtime import Core"
   ]
  },
  {
   "cell_type": "code",
   "execution_count": null,
   "id": "b57ef9d7-93b9-494c-b9a0-3e4773b69e1b",
   "metadata": {},
   "outputs": [],
   "source": [
    "model_h5_dir = Path(\"./files/A_20240630\")\n",
    "model_h5_path = model_h5_dir / \"model.h5\"\n",
    "\n",
    "model_path = Path(\"./files/A_20240630/saved_model.pb\")\n",
    "\n",
    "ir_path = Path(\"model/A_20240530/NanoNet-fp32.xml\")"
   ]
  },
  {
   "cell_type": "code",
   "execution_count": null,
   "id": "1d07e6b3-cdad-4f29-a5d3-082beea9b394",
   "metadata": {},
   "outputs": [],
   "source": [
    "from metrics import iou, dice_coef, dice_loss, bce_dice_loss\n",
    "from tensorflow.keras.utils import CustomObjectScope\n",
    "\n",
    "# Load the model\n",
    "with CustomObjectScope({\n",
    "        'iou':iou,\n",
    "        'dice_coef':dice_coef,\n",
    "        'dice_loss':dice_loss,\n",
    "        'bce_dice_loss': bce_dice_loss\n",
    "    }):\n",
    "    try:\n",
    "        model = tf.keras.models.load_model(model_h5_path)\n",
    "        print(\"Model loaded successfully.\")\n",
    "    except Exception as e:\n",
    "        print(f\"Failed to load model: {e}\")\n",
    "        "
   ]
  },
  {
   "cell_type": "code",
   "execution_count": null,
   "id": "0a86d100-a3d7-4c21-b7f5-c0adfb1cf11d",
   "metadata": {},
   "outputs": [],
   "source": [
    "saved_model_path =  model_h5_dir /'model'\n",
    "tf.saved_model.save(model,saved_model_path)\n"
   ]
  },
  {
   "cell_type": "code",
   "execution_count": null,
   "id": "afb30ce7-25cd-4ddf-b003-5a891b550b66",
   "metadata": {},
   "outputs": [],
   "source": [
    "import openvino as ov\n",
    "ov_model = ov.convert_model(saved_model_path, input=[1, 256, 256, 3]) "
   ]
  },
  {
   "cell_type": "code",
   "execution_count": null,
   "id": "d894c4b9-138b-450c-b48c-34a79414b85e",
   "metadata": {},
   "outputs": [],
   "source": [
    "ov.save_model(ov_model, saved_model_path /'nanonet-fp32-shape-1-256-256-3-model.xml')"
   ]
  }
 ],
 "metadata": {
  "kernelspec": {
   "display_name": "Python 3 (ipykernel)",
   "language": "python",
   "name": "python3"
  },
  "language_info": {
   "codemirror_mode": {
    "name": "ipython",
    "version": 3
   },
   "file_extension": ".py",
   "mimetype": "text/x-python",
   "name": "python",
   "nbconvert_exporter": "python",
   "pygments_lexer": "ipython3",
   "version": "3.10.14"
  }
 },
 "nbformat": 4,
 "nbformat_minor": 5
}
