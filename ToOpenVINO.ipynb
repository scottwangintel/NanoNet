{
 "cells": [
  {
   "cell_type": "code",
   "execution_count": 1,
   "id": "b053bb7e-92c8-40da-9af7-7f1e0b426fd2",
   "metadata": {},
   "outputs": [
    {
     "name": "stderr",
     "output_type": "stream",
     "text": [
      "2024-07-02 17:00:03.081261: I tensorflow/core/util/port.cc:110] oneDNN custom operations are on. You may see slightly different numerical results due to floating-point round-off errors from different computation orders. To turn them off, set the environment variable `TF_ENABLE_ONEDNN_OPTS=0`.\n",
      "2024-07-02 17:00:03.083586: I tensorflow/tsl/cuda/cudart_stub.cc:28] Could not find cuda drivers on your machine, GPU will not be used.\n",
      "2024-07-02 17:00:03.124407: I tensorflow/tsl/cuda/cudart_stub.cc:28] Could not find cuda drivers on your machine, GPU will not be used.\n",
      "2024-07-02 17:00:03.125219: I tensorflow/core/platform/cpu_feature_guard.cc:182] This TensorFlow binary is optimized to use available CPU instructions in performance-critical operations.\n",
      "To enable the following instructions: AVX2 AVX512F AVX512_VNNI FMA, in other operations, rebuild TensorFlow with the appropriate compiler flags.\n",
      "2024-07-02 17:00:03.712597: W tensorflow/compiler/tf2tensorrt/utils/py_utils.cc:38] TF-TRT Warning: Could not find TensorRT\n"
     ]
    }
   ],
   "source": [
    "# This script converts the trained \"model.h5\" into OpenVINO MO.\n",
    "# https://docs.openvino.ai/2022.3/openvino_docs_MO_DG_prepare_model_convert_model_Convert_Model_From_TensorFlow.html#keras-h5 \n",
    "import time\n",
    "from pathlib import Path\n",
    "\n",
    "import cv2\n",
    "import matplotlib.pyplot as plt\n",
    "import numpy as np\n",
    "import tensorflow as tf\n",
    "from IPython.display import Markdown\n",
    "from openvino.runtime import Core"
   ]
  },
  {
   "cell_type": "code",
   "execution_count": 2,
   "id": "b57ef9d7-93b9-494c-b9a0-3e4773b69e1b",
   "metadata": {},
   "outputs": [],
   "source": [
    "model_h5_dir = Path(\"./files/A_20240630\")\n",
    "model_h5_path = model_h5_dir / \"model.h5\""
   ]
  },
  {
   "cell_type": "code",
   "execution_count": 3,
   "id": "1d07e6b3-cdad-4f29-a5d3-082beea9b394",
   "metadata": {},
   "outputs": [
    {
     "name": "stdout",
     "output_type": "stream",
     "text": [
      "Model loaded successfully.\n"
     ]
    }
   ],
   "source": [
    "from metrics import iou, dice_coef, dice_loss, bce_dice_loss\n",
    "from tensorflow.keras.utils import CustomObjectScope\n",
    "\n",
    "# Load the model\n",
    "with CustomObjectScope({\n",
    "        'iou':iou,\n",
    "        'dice_coef':dice_coef,\n",
    "        'dice_loss':dice_loss,\n",
    "        'bce_dice_loss': bce_dice_loss\n",
    "    }):\n",
    "    try:\n",
    "        h5_model = tf.keras.models.load_model(model_h5_path)\n",
    "        print(\"Model loaded successfully.\")\n",
    "    except Exception as e:\n",
    "        print(f\"Failed to load model: {e}\")\n",
    "        "
   ]
  },
  {
   "cell_type": "code",
   "execution_count": 4,
   "id": "0a86d100-a3d7-4c21-b7f5-c0adfb1cf11d",
   "metadata": {},
   "outputs": [
    {
     "name": "stderr",
     "output_type": "stream",
     "text": [
      "2024-07-02 17:00:17.252505: I tensorflow/core/common_runtime/executor.cc:1197] [/device:CPU:0] (DEBUG INFO) Executor start aborting (this does not indicate an error and you can ignore this message): INVALID_ARGUMENT: You must feed a value for placeholder tensor 'inputs' with dtype float and shape [?,?,?,?]\n",
      "\t [[{{node inputs}}]]\n",
      "2024-07-02 17:00:17.391450: I tensorflow/core/common_runtime/executor.cc:1197] [/device:CPU:0] (DEBUG INFO) Executor start aborting (this does not indicate an error and you can ignore this message): INVALID_ARGUMENT: You must feed a value for placeholder tensor 'inputs' with dtype float and shape [?,?,?,?]\n",
      "\t [[{{node inputs}}]]\n",
      "2024-07-02 17:00:17.530026: I tensorflow/core/common_runtime/executor.cc:1197] [/device:CPU:0] (DEBUG INFO) Executor start aborting (this does not indicate an error and you can ignore this message): INVALID_ARGUMENT: You must feed a value for placeholder tensor 'inputs' with dtype float and shape [?,?,?,?]\n",
      "\t [[{{node inputs}}]]\n",
      "2024-07-02 17:00:19.257625: I tensorflow/core/common_runtime/executor.cc:1197] [/device:CPU:0] (DEBUG INFO) Executor start aborting (this does not indicate an error and you can ignore this message): INVALID_ARGUMENT: You must feed a value for placeholder tensor 'inputs' with dtype float and shape [?,192]\n",
      "\t [[{{node inputs}}]]\n",
      "2024-07-02 17:00:19.261632: I tensorflow/core/common_runtime/executor.cc:1197] [/device:CPU:0] (DEBUG INFO) Executor start aborting (this does not indicate an error and you can ignore this message): INVALID_ARGUMENT: You must feed a value for placeholder tensor 'inputs' with dtype float and shape [?,1,1,192]\n",
      "\t [[{{node inputs}}]]\n",
      "2024-07-02 17:00:19.269348: I tensorflow/core/common_runtime/executor.cc:1197] [/device:CPU:0] (DEBUG INFO) Executor start aborting (this does not indicate an error and you can ignore this message): INVALID_ARGUMENT: You must feed a value for placeholder tensor 'inputs' with dtype float and shape [?,1,1,12]\n",
      "\t [[{{node inputs}}]]\n",
      "2024-07-02 17:00:19.310837: I tensorflow/core/common_runtime/executor.cc:1197] [/device:CPU:0] (DEBUG INFO) Executor start aborting (this does not indicate an error and you can ignore this message): INVALID_ARGUMENT: You must feed a value for placeholder tensor 'inputs' with dtype float and shape [?,128]\n",
      "\t [[{{node inputs}}]]\n",
      "2024-07-02 17:00:19.314565: I tensorflow/core/common_runtime/executor.cc:1197] [/device:CPU:0] (DEBUG INFO) Executor start aborting (this does not indicate an error and you can ignore this message): INVALID_ARGUMENT: You must feed a value for placeholder tensor 'inputs' with dtype float and shape [?,1,1,128]\n",
      "\t [[{{node inputs}}]]\n",
      "2024-07-02 17:00:19.322270: I tensorflow/core/common_runtime/executor.cc:1197] [/device:CPU:0] (DEBUG INFO) Executor start aborting (this does not indicate an error and you can ignore this message): INVALID_ARGUMENT: You must feed a value for placeholder tensor 'inputs' with dtype float and shape [?,1,1,8]\n",
      "\t [[{{node inputs}}]]\n",
      "2024-07-02 17:00:19.364200: I tensorflow/core/common_runtime/executor.cc:1197] [/device:CPU:0] (DEBUG INFO) Executor start aborting (this does not indicate an error and you can ignore this message): INVALID_ARGUMENT: You must feed a value for placeholder tensor 'inputs' with dtype float and shape [?,64]\n",
      "\t [[{{node inputs}}]]\n",
      "2024-07-02 17:00:19.367910: I tensorflow/core/common_runtime/executor.cc:1197] [/device:CPU:0] (DEBUG INFO) Executor start aborting (this does not indicate an error and you can ignore this message): INVALID_ARGUMENT: You must feed a value for placeholder tensor 'inputs' with dtype float and shape [?,1,1,64]\n",
      "\t [[{{node inputs}}]]\n",
      "2024-07-02 17:00:19.375574: I tensorflow/core/common_runtime/executor.cc:1197] [/device:CPU:0] (DEBUG INFO) Executor start aborting (this does not indicate an error and you can ignore this message): INVALID_ARGUMENT: You must feed a value for placeholder tensor 'inputs' with dtype float and shape [?,1,1,4]\n",
      "\t [[{{node inputs}}]]\n",
      "2024-07-02 17:00:19.416903: I tensorflow/core/common_runtime/executor.cc:1197] [/device:CPU:0] (DEBUG INFO) Executor start aborting (this does not indicate an error and you can ignore this message): INVALID_ARGUMENT: You must feed a value for placeholder tensor 'inputs' with dtype float and shape [?,32]\n",
      "\t [[{{node inputs}}]]\n",
      "2024-07-02 17:00:19.421154: I tensorflow/core/common_runtime/executor.cc:1197] [/device:CPU:0] (DEBUG INFO) Executor start aborting (this does not indicate an error and you can ignore this message): INVALID_ARGUMENT: You must feed a value for placeholder tensor 'inputs' with dtype float and shape [?,1,1,32]\n",
      "\t [[{{node inputs}}]]\n",
      "2024-07-02 17:00:19.425064: I tensorflow/core/common_runtime/executor.cc:1197] [/device:CPU:0] (DEBUG INFO) Executor start aborting (this does not indicate an error and you can ignore this message): INVALID_ARGUMENT: You must feed a value for placeholder tensor 'inputs' with dtype float and shape [?,1,1,2]\n",
      "\t [[{{node inputs}}]]\n",
      "2024-07-02 17:00:21.881090: I tensorflow/core/common_runtime/executor.cc:1197] [/device:CPU:0] (DEBUG INFO) Executor start aborting (this does not indicate an error and you can ignore this message): INVALID_ARGUMENT: You must feed a value for placeholder tensor 'inputs' with dtype float and shape [?,192]\n",
      "\t [[{{node inputs}}]]\n",
      "2024-07-02 17:00:21.890736: I tensorflow/core/common_runtime/executor.cc:1197] [/device:CPU:0] (DEBUG INFO) Executor start aborting (this does not indicate an error and you can ignore this message): INVALID_ARGUMENT: You must feed a value for placeholder tensor 'inputs' with dtype float and shape [?,1,1,192]\n",
      "\t [[{{node inputs}}]]\n",
      "2024-07-02 17:00:21.906390: I tensorflow/core/common_runtime/executor.cc:1197] [/device:CPU:0] (DEBUG INFO) Executor start aborting (this does not indicate an error and you can ignore this message): INVALID_ARGUMENT: You must feed a value for placeholder tensor 'inputs' with dtype float and shape [?,1,1,12]\n",
      "\t [[{{node inputs}}]]\n",
      "2024-07-02 17:00:21.958237: I tensorflow/core/common_runtime/executor.cc:1197] [/device:CPU:0] (DEBUG INFO) Executor start aborting (this does not indicate an error and you can ignore this message): INVALID_ARGUMENT: You must feed a value for placeholder tensor 'inputs' with dtype float and shape [?,?,?,?]\n",
      "\t [[{{node inputs}}]]\n",
      "2024-07-02 17:00:22.122363: I tensorflow/core/common_runtime/executor.cc:1197] [/device:CPU:0] (DEBUG INFO) Executor start aborting (this does not indicate an error and you can ignore this message): INVALID_ARGUMENT: You must feed a value for placeholder tensor 'inputs' with dtype float and shape [?,128]\n",
      "\t [[{{node inputs}}]]\n",
      "2024-07-02 17:00:22.131828: I tensorflow/core/common_runtime/executor.cc:1197] [/device:CPU:0] (DEBUG INFO) Executor start aborting (this does not indicate an error and you can ignore this message): INVALID_ARGUMENT: You must feed a value for placeholder tensor 'inputs' with dtype float and shape [?,1,1,128]\n",
      "\t [[{{node inputs}}]]\n",
      "2024-07-02 17:00:22.147394: I tensorflow/core/common_runtime/executor.cc:1197] [/device:CPU:0] (DEBUG INFO) Executor start aborting (this does not indicate an error and you can ignore this message): INVALID_ARGUMENT: You must feed a value for placeholder tensor 'inputs' with dtype float and shape [?,1,1,8]\n",
      "\t [[{{node inputs}}]]\n",
      "2024-07-02 17:00:22.199145: I tensorflow/core/common_runtime/executor.cc:1197] [/device:CPU:0] (DEBUG INFO) Executor start aborting (this does not indicate an error and you can ignore this message): INVALID_ARGUMENT: You must feed a value for placeholder tensor 'inputs' with dtype float and shape [?,?,?,?]\n",
      "\t [[{{node inputs}}]]\n",
      "2024-07-02 17:00:22.364373: I tensorflow/core/common_runtime/executor.cc:1197] [/device:CPU:0] (DEBUG INFO) Executor start aborting (this does not indicate an error and you can ignore this message): INVALID_ARGUMENT: You must feed a value for placeholder tensor 'inputs' with dtype float and shape [?,64]\n",
      "\t [[{{node inputs}}]]\n",
      "2024-07-02 17:00:22.373920: I tensorflow/core/common_runtime/executor.cc:1197] [/device:CPU:0] (DEBUG INFO) Executor start aborting (this does not indicate an error and you can ignore this message): INVALID_ARGUMENT: You must feed a value for placeholder tensor 'inputs' with dtype float and shape [?,1,1,64]\n",
      "\t [[{{node inputs}}]]\n",
      "2024-07-02 17:00:22.389552: I tensorflow/core/common_runtime/executor.cc:1197] [/device:CPU:0] (DEBUG INFO) Executor start aborting (this does not indicate an error and you can ignore this message): INVALID_ARGUMENT: You must feed a value for placeholder tensor 'inputs' with dtype float and shape [?,1,1,4]\n",
      "\t [[{{node inputs}}]]\n",
      "2024-07-02 17:00:22.442111: I tensorflow/core/common_runtime/executor.cc:1197] [/device:CPU:0] (DEBUG INFO) Executor start aborting (this does not indicate an error and you can ignore this message): INVALID_ARGUMENT: You must feed a value for placeholder tensor 'inputs' with dtype float and shape [?,?,?,?]\n",
      "\t [[{{node inputs}}]]\n",
      "2024-07-02 17:00:22.606299: I tensorflow/core/common_runtime/executor.cc:1197] [/device:CPU:0] (DEBUG INFO) Executor start aborting (this does not indicate an error and you can ignore this message): INVALID_ARGUMENT: You must feed a value for placeholder tensor 'inputs' with dtype float and shape [?,32]\n",
      "\t [[{{node inputs}}]]\n",
      "2024-07-02 17:00:22.615866: I tensorflow/core/common_runtime/executor.cc:1197] [/device:CPU:0] (DEBUG INFO) Executor start aborting (this does not indicate an error and you can ignore this message): INVALID_ARGUMENT: You must feed a value for placeholder tensor 'inputs' with dtype float and shape [?,1,1,32]\n",
      "\t [[{{node inputs}}]]\n",
      "2024-07-02 17:00:22.631440: I tensorflow/core/common_runtime/executor.cc:1197] [/device:CPU:0] (DEBUG INFO) Executor start aborting (this does not indicate an error and you can ignore this message): INVALID_ARGUMENT: You must feed a value for placeholder tensor 'inputs' with dtype float and shape [?,1,1,2]\n",
      "\t [[{{node inputs}}]]\n",
      "WARNING:absl:Found untraced functions such as _jit_compiled_convolution_op, _jit_compiled_convolution_op, _jit_compiled_convolution_op, _jit_compiled_convolution_op, _jit_compiled_convolution_op while saving (showing 5 of 35). These functions will not be directly callable after loading.\n"
     ]
    },
    {
     "name": "stdout",
     "output_type": "stream",
     "text": [
      "INFO:tensorflow:Assets written to: files/A_20240630/model/assets\n"
     ]
    },
    {
     "name": "stderr",
     "output_type": "stream",
     "text": [
      "INFO:tensorflow:Assets written to: files/A_20240630/model/assets\n"
     ]
    }
   ],
   "source": [
    "saved_model_path =  model_h5_dir /'model'\n",
    "tf.saved_model.save(h5_model,saved_model_path)\n"
   ]
  },
  {
   "cell_type": "code",
   "execution_count": 5,
   "id": "afb30ce7-25cd-4ddf-b003-5a891b550b66",
   "metadata": {},
   "outputs": [],
   "source": [
    "import openvino as ov\n",
    "ov_model = ov.convert_model(saved_model_path, input=[[1, 256, 256, 3]]) "
   ]
  },
  {
   "cell_type": "code",
   "execution_count": 6,
   "id": "4dcfcc7c-7804-456f-b720-043f8a96d305",
   "metadata": {},
   "outputs": [
    {
     "name": "stdout",
     "output_type": "stream",
     "text": [
      "input_name is input_image\n"
     ]
    }
   ],
   "source": [
    "prep = ov.preprocess.PrePostProcessor(ov_model)\n",
    "input_name = ov_model.input().get_any_name()\n",
    "print(\"input_name is\", input_name)\n",
    "prep.input(input_name).model().set_layout(ov.Layout(\"NCHW\"))\n",
    "prep.input(input_name).tensor().set_layout(ov.Layout(\"NCHW\"))\n",
    "ov_model = prep.build()\n"
   ]
  },
  {
   "cell_type": "code",
   "execution_count": 8,
   "id": "d894c4b9-138b-450c-b48c-34a79414b85e",
   "metadata": {},
   "outputs": [],
   "source": [
    "fn = str(saved_model_path /'nanonet-fp32-shape-1-3-256-256-model.xml')\n",
    "ov.save_model(ov_model, fn)"
   ]
  },
  {
   "cell_type": "code",
   "execution_count": 9,
   "id": "6f7041db-3ace-487d-b4c3-4f4f862dd2d4",
   "metadata": {},
   "outputs": [
    {
     "name": "stdout",
     "output_type": "stream",
     "text": [
      "<?xml version=\"1.0\"?>\n",
      "<net name=\"TensorFlow_Frontend_IR\" version=\"11\">\n",
      "<layers>\n",
      "<layer id=\"0\" name=\"input_image\" type=\"Parameter\" version=\"opset1\">\n",
      "<data shape=\"1,256,256,3\" element_type=\"f32\" />\n",
      "<output>\n",
      "<port id=\"0\" precision=\"FP32\" names=\"input_image\">\n",
      "<dim>1</dim>\n",
      "<dim>256</dim>\n",
      "<dim>256</dim>\n",
      "<dim>3</dim>\n",
      "<rt_info>\n",
      "<attribute name=\"layout\" version=\"0\" layout=\"[N,C,H,W]\" />\n",
      "</rt_info>\n",
      "</port>\n",
      "</output>\n",
      "</layer>\n",
      "<layer id=\"1\" name=\"Constant_653\" type=\"Const\" version=\"opset1\">\n",
      "<data element_type=\"i64\" shape=\"4\" offset=\"0\" size=\"32\" />\n",
      "<output>\n"
     ]
    }
   ],
   "source": [
    "# Open the file and read the first 20 lines\n",
    "with open(fn, 'r') as file:\n",
    "    for i in range(20):\n",
    "        line = file.readline()\n",
    "        print(line.strip())  # Using strip() to remove any extra newline characters"
   ]
  },
  {
   "cell_type": "code",
   "execution_count": null,
   "id": "774114dc-810f-4318-8fbb-211792266126",
   "metadata": {},
   "outputs": [],
   "source": []
  }
 ],
 "metadata": {
  "kernelspec": {
   "display_name": "Python 3 (ipykernel)",
   "language": "python",
   "name": "python3"
  },
  "language_info": {
   "codemirror_mode": {
    "name": "ipython",
    "version": 3
   },
   "file_extension": ".py",
   "mimetype": "text/x-python",
   "name": "python",
   "nbconvert_exporter": "python",
   "pygments_lexer": "ipython3",
   "version": "3.9.19"
  }
 },
 "nbformat": 4,
 "nbformat_minor": 5
}
